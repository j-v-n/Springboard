{
 "cells": [
  {
   "cell_type": "markdown",
   "metadata": {},
   "source": [
    "# Building an Expected Goals Model for Shot-Event Data"
   ]
  },
  {
   "cell_type": "markdown",
   "metadata": {},
   "source": [
    "By Jayanth Nair, A Springboard Capstone Project"
   ]
  },
  {
   "cell_type": "markdown",
   "metadata": {},
   "source": [
    "***Introduction***"
   ]
  },
  {
   "cell_type": "markdown",
   "metadata": {},
   "source": [
    "The following table contains statistics from a very famous (or rather infamous) game of football, obtained from Christoph Biermann's book Football Hackers. It describes the game with conventional statistical metrics. "
   ]
  },
  {
   "cell_type": "markdown",
   "metadata": {},
   "source": [
    "|                             | Team A | Team B |\n",
    "|-----------------------------|:------:|:------:|\n",
    "|          Possession         |   52%  |   48%  |\n",
    "| Passes into the 18 yard box |   19   |   11   |\n",
    "|           Crosses           |   22   |   10   |\n",
    "|           Corners           |    7   |    5   |\n",
    "|      Dangerous attacks      |   55   |   34   |\n",
    "|         Tackles won         |    5   |    1   |\n",
    "|          Lost balls         |   69   |   76   |\n",
    "|            Shots            |   18   |   14   |\n",
    "|       Shots on Target       |   13   |   12   |"
   ]
  },
  {
   "cell_type": "markdown",
   "metadata": {},
   "source": [
    "Upon first look, most people would conclude that Team A ran out comfortable winners. However, in reality Team B were the winners by some margin. These statistics are from the 2014 World Cup semi-final between Brazil and Germany. Team B were Germany. They won by 7 goals to 1."
   ]
  },
  {
   "cell_type": "markdown",
   "metadata": {},
   "source": [
    "Following the footsteps of baseball (Moneyball and more recently, Astroball) and basketball (Daryl Morey and the Houston Rockets), football/soccer is now undergoing a 'statistical revolution'. New statistical metrics are being developed which can quantify game scenarios better, thereby refining game tactics and player recruitment."
   ]
  },
  {
   "cell_type": "markdown",
   "metadata": {},
   "source": [
    "***What is Expected Goals?***"
   ]
  },
  {
   "cell_type": "markdown",
   "metadata": {},
   "source": [
    "One of the relatively ubiquitous 'new' statistical metrics is Expected Goals (xG). xG essentially quantifies the quality of a shot by the probability of that shot being a goal. Intuitively, we know that a shot taken from outside the box is much less likely to be a goal than one being taken near the goal line. xG is a mere quantification of this intuitiveness. Some examples are below:"
   ]
  },
  {
   "cell_type": "markdown",
   "metadata": {},
   "source": [
    "![Alt Text](https://media.giphy.com/media/jaJkRgaIT6wLayz5V7/giphy.gif)"
   ]
  },
  {
   "cell_type": "markdown",
   "metadata": {},
   "source": [
    "This belter from Benjamin Pavard in the 2018 World Cup from outside the box will have a lower xG, while the goal below by Barcelona will have a much higher xG"
   ]
  },
  {
   "cell_type": "markdown",
   "metadata": {},
   "source": [
    "![Alt Text](https://media.giphy.com/media/zRqwfjscelwlO/giphy.gif)"
   ]
  },
  {
   "cell_type": "markdown",
   "metadata": {},
   "source": [
    "***Why do we need xG?***"
   ]
  },
  {
   "cell_type": "markdown",
   "metadata": {},
   "source": [
    "xG is an excellent predictor of how good a team is going forward, i.e attacking. The following is a snippet of the Premier League table on Nov 11, 2019 in descending order of points from Understat. (G is Goals scored and xG is, well, xG).\n",
    "\n",
    "As you can see, the xG numbers match pretty well with the actual goals scored for each team, with some notable exceptions. Leicester City's attackers are ruthless in front of goal, outperforming their xG numbers significantly. Watford, Southampton and Manchester United on the other end seem to be underperforming as per their xG. \n"
   ]
  },
  {
   "cell_type": "markdown",
   "metadata": {},
   "source": [
    "<img src=\"xg_table.png\" />"
   ]
  },
  {
   "cell_type": "markdown",
   "metadata": {},
   "source": [
    "Similary expected goals against or xGA can be used to quantify the quality of shots a team faces.  This can be used as an indicator of how good a team's defense is. Below is a table of goals allowed and xGA. At the top end of the table, Leicester and Sheffield United (!!!) seem to be outperforming their xGA numbers while Chelsea seem to be struggling.  The bottom three are all struggling with their defenses leaking goals. \n",
    "\n",
    "Both Watford and Southampton were at the receiving end of 0-6 and 0-9 maulings this season, so that will skew their numbers a little."
   ]
  },
  {
   "cell_type": "markdown",
   "metadata": {},
   "source": [
    "![N|Solid](./xga_table.png)"
   ]
  },
  {
   "cell_type": "markdown",
   "metadata": {},
   "source": [
    "***Objective***"
   ]
  },
  {
   "cell_type": "markdown",
   "metadata": {},
   "source": [
    "My objective with this project is to create my own xG model. The dataset I am using is the [Statsbomb open dataset](https://github.com/statsbomb/open-data). Specifically, I will be using the women's soccer dataset which contains data from 2 seasons of the FA WSL, 1 season of NWSL and the 2018 women's world cup"
   ]
  },
  {
   "cell_type": "markdown",
   "metadata": {},
   "source": [
    "The data contains 229 games and 5929 shots which should be sufficient to build a workable xG model"
   ]
  },
  {
   "cell_type": "markdown",
   "metadata": {},
   "source": [
    "The approach will be hypothesis-driven. In any hypothesis driven approach, there needs to be a hypothesis tree which drives the data wrangling and exploration.  The hypothesis tree for this project is given below:"
   ]
  },
  {
   "cell_type": "markdown",
   "metadata": {},
   "source": [
    "<img src=\"decision_tree.png\" />"
   ]
  },
  {
   "cell_type": "markdown",
   "metadata": {},
   "source": [
    "### Data Wrangling"
   ]
  },
  {
   "cell_type": "markdown",
   "metadata": {},
   "source": [
    "### Step 1 - Importing the necessary modules"
   ]
  },
  {
   "cell_type": "code",
   "execution_count": 1,
   "metadata": {},
   "outputs": [],
   "source": [
    "import pandas as pd\n",
    "import numpy as np\n",
    "import matplotlib.pyplot as plt\n",
    "import glob\n",
    "%matplotlib inline\n",
    "pd.options.display.max_columns = 15"
   ]
  },
  {
   "cell_type": "markdown",
   "metadata": {},
   "source": [
    "The data from the Statsbomb dataset has been locally downloaded. So we direct the jupyter notebook to load the necessary data. Remember, the project will build a model based on women's soccer data. Thankfully, the Statsbomb have provided a detailed glossary and explanation of nomenclature to identify and extract the required data"
   ]
  },
  {
   "cell_type": "code",
   "execution_count": 2,
   "metadata": {},
   "outputs": [],
   "source": [
    "#extracting information about which leagues\n",
    "filepath = \"D:\\\\statsbomb\\\\open-data-master\\\\data\\\\matches\\\\\"\n",
    "competitions =[\"37\",\"49\",\"72\"]\n",
    "league_list = []\n",
    "for comp in competitions:\n",
    "    path = filepath+comp\n",
    "    league_list.extend(glob.glob(path+\"\\\\*.json\"))"
   ]
  },
  {
   "cell_type": "code",
   "execution_count": 3,
   "metadata": {},
   "outputs": [],
   "source": [
    "#extracting match specific information\n",
    "match_list=[]\n",
    "home_list=[]\n",
    "away_list=[]\n",
    "for league in league_list:\n",
    "    df=pd.read_json(league)\n",
    "    match_list.extend(df['match_id'].values)\n",
    "    for i in range(0,df.shape[0]):\n",
    "        home_list.append(df['home_team'].values[i]['home_team_name'])\n",
    "        away_list.append(df['away_team'].values[i]['away_team_name'])"
   ]
  },
  {
   "cell_type": "markdown",
   "metadata": {},
   "source": [
    "Shot specific information which can be directly extracted from the data without further engineering are extracted first"
   ]
  },
  {
   "cell_type": "code",
   "execution_count": 4,
   "metadata": {},
   "outputs": [],
   "source": [
    "eventspath = \"D:\\\\statsbomb\\\\open-data-master\\\\data\\\\events\\\\\"\n",
    "shots_list=[] # all shots\n",
    "loc_list=[] #all shot locations\n",
    "timestamp_list=[] #time at which shot was taken\n",
    "outcome_name_list = [] #all shot outcomes\n",
    "outcome_id_list=[] #all shot outcome ids as per data\n",
    "bodypart_name_list = [] #bodypart involved in shot\n",
    "bodypart_id_list=[] #bodypart ids as per data\n",
    "technique_name_list = [] #technique used in shot\n",
    "technique_id_list=[] #technique ids as per data\n",
    "type_name_list = [] #play pattern names\n",
    "type_id_list=[] #play pattern ids\n",
    "first_time_list=[] #whether shot was taken without a preceding touch \n",
    "statsbomb_xg_list = [] #statsbomb's xG prediction\n",
    "key_pass_type_list=[] #the key pass leading up to the shot\n",
    "player_list=[] #the player who took the shot\n",
    "team_list=[] #the team the player belongs to\n",
    "preceding_event_list=[]#the event preceding the shot\n",
    "preceding_event_player_list=[]#the player involved in preceding event\n",
    "preceding_event_team_list=[]#the team of the player involved"
   ]
  },
  {
   "cell_type": "code",
   "execution_count": 5,
   "metadata": {},
   "outputs": [],
   "source": [
    "#extracting the above information\n",
    "for match in match_list:\n",
    "    matchname = str(match)\n",
    "    path = eventspath+matchname+\".json\"\n",
    "    df_events=pd.read_json(path)\n",
    "    df_shots = df_events[['index','timestamp','shot','location','player','possession_team']].dropna()\n",
    "    shots_list.append(df_shots.dropna().shape[0])\n",
    "    loc_list.extend(list(df_shots['location'].values))\n",
    "    timestamp_list.extend(list(df_shots['timestamp'].values))\n",
    "    for i in range(0,len(df_shots)):\n",
    "        outcome_name_list.append(df_shots.iloc[i][2]['outcome']['name'])\n",
    "        outcome_id_list.append(df_shots.iloc[i][2]['outcome']['id'])\n",
    "        bodypart_name_list.append(df_shots.iloc[i][2]['body_part']['name'])\n",
    "        bodypart_id_list.append(df_shots.iloc[i][2]['body_part']['id'])\n",
    "        technique_name_list.append(df_shots.iloc[i][2]['technique']['name'])\n",
    "        technique_id_list.append(df_shots.iloc[i][2]['technique']['id'])\n",
    "        type_name_list.append(df_shots.iloc[i][2]['type']['name'])\n",
    "        type_id_list.append(df_shots.iloc[i][2]['type']['id'])\n",
    "        player_list.append(df_shots.iloc[i][4]['name'])\n",
    "        team_list.append(df_shots.iloc[i][5]['name'])\n",
    "        \n",
    "        #Whether a shot was a first time shot is indicated by a Boolean. Many shots are not first time shots\n",
    "        #Error handling is used to not stop data extraction\n",
    "        try:\n",
    "            first_time_list.append(df_shots.iloc[i][2]['first_time'])\n",
    "        except:\n",
    "            first_time_list.append(False)\n",
    "        \n",
    "        #Many shots do not have a preceding key pass. Error handling is used in such cases\n",
    "        try:\n",
    "            key_pass = df_shots.iloc[i][2]['key_pass_id']\n",
    "            filt1 = df_events['id']==key_pass\n",
    "            pass_info = df_events[filt1].dropna(axis='columns')['pass']\n",
    "            key_pass_type_list.append(pass_info.iloc[0]['height']['name'])\n",
    "        except KeyError:\n",
    "            key_pass_type_list.append(np.nan)\n",
    "        \n",
    "        #Extracting the event preceding the shot\n",
    "        idx_filt = df_shots.iloc[i,0]-1\n",
    "        filt = df_events['index']==idx_filt\n",
    "        df_events_filt=df_events[filt].dropna(axis='columns')\n",
    "        preceding_event_list.append(df_events_filt['type'].values[0]['name'])\n",
    "        try:\n",
    "            preceding_event_player_list.append(df_events_filt['player'].values[0]['name'])\n",
    "        except:\n",
    "            preceding_event_player_list.append(np.nan)\n",
    "        preceding_event_team_list.append(df_events_filt['possession_team'].values[0]['name'])\n",
    "        \n",
    "        #extracting statsbomb xG\n",
    "        statsbomb_xg_list.append(df_shots.iloc[i][2]['statsbomb_xg'])"
   ]
  },
  {
   "cell_type": "markdown",
   "metadata": {},
   "source": [
    "One of the most interesting things about the data is it contains the exact locations of all players at the time of the shot. This data has to be engineered to be used as part of this project. \n",
    "\n",
    "Below, a function is defined which calculates the number of players in between the shot and the goal. To do this, it considers the triangle created by the shot location and the edges of the goal. It then evaluates each player location as to whether it lies in the triangle. The number of players in the triangle will be stored as 'pack_density'.\n",
    "\n",
    "The algorithm used is the barycentric technique which you can read about [here](http://blackpawn.com/texts/pointinpoly/)"
   ]
  },
  {
   "cell_type": "code",
   "execution_count": 6,
   "metadata": {},
   "outputs": [],
   "source": [
    "def vectorize(pointa, pointb):\n",
    "    '''\n",
    "    Given two points, create a vector from the first to the second\n",
    "    \n",
    "    Arguments:\n",
    "        pointa, pointb - x,y co-ordinates (list)\n",
    "    \n",
    "    Returns:\n",
    "        vector from point a to point b\n",
    "    '''\n",
    "    return [pointb[0]-pointa[0], pointb[1]-pointa[1]]\n",
    "\n",
    "\n",
    "def isInside(point_shot, point_goal1, point_goal2, point_freeze):\n",
    "    '''\n",
    "    Given the three vertices of a triangle, this function determines if a fourth\n",
    "    point lies inside the triangle\n",
    "    \n",
    "    Arguments:\n",
    "        point_shot - shot location x,y (list)\n",
    "        point_goal1 and point_goal2 - goal edges x,y (list)\n",
    "        point_freeze - player location x,y(list)\n",
    "        \n",
    "    Returns:\n",
    "        True or False (boolean)\n",
    "    \n",
    "    '''\n",
    "    v2 = vectorize(point_freeze, point_shot)\n",
    "    v0 = vectorize(point_goal1, point_shot)\n",
    "    v1 = vectorize(point_goal2, point_shot)\n",
    "\n",
    "    u = (np.dot(v1, v1)*np.dot(v2, v0)-np.dot(v1, v0)*np.dot(v2, v1)) / \\\n",
    "        (np.dot(v0, v0)*np.dot(v1, v1)-np.dot(v0, v1)*np.dot(v1, v0))\n",
    "    v = (np.dot(v0, v0)*np.dot(v2, v1)-np.dot(v0, v1)*np.dot(v2, v0)) / \\\n",
    "        (np.dot(v0, v0)*np.dot(v1, v1)-np.dot(v0, v1)*np.dot(v1, v0))\n",
    "\n",
    "    if u < 0 or v < 0:\n",
    "        return False\n",
    "    elif u > 1 or v > 1:\n",
    "        return False\n",
    "    elif u+v > 1:\n",
    "        return False\n",
    "    else:\n",
    "        return True"
   ]
  },
  {
   "cell_type": "code",
   "execution_count": 7,
   "metadata": {},
   "outputs": [],
   "source": [
    "#defining edges of goal\n",
    "goal_x1y1 = [120,36]\n",
    "goal_x2y2 = [120,44]\n",
    "pack_density_list = [] "
   ]
  },
  {
   "cell_type": "code",
   "execution_count": 8,
   "metadata": {},
   "outputs": [],
   "source": [
    "for match in match_list:\n",
    "    matchname = str(match)\n",
    "    path = eventspath+matchname+\".json\"\n",
    "    df_events=pd.read_json(path)\n",
    "    df_shots = df_events[['index','shot','location','player','possession_team']].dropna()\n",
    "    \n",
    "    for i in range(0,len(df_shots)):\n",
    "        shot_loc=df_shots['location'].iloc[i]\n",
    "        freeze_frame_list=[]\n",
    "        # in cases of penalties, a freeze frame is not provided so a KeyError will be raised\n",
    "        # using error handling to append 1 in such cases\n",
    "        try:\n",
    "            for j in range(0,len(df_shots['shot'].iloc[i]['freeze_frame'])):\n",
    "                location=df_shots['shot'].iloc[i]['freeze_frame'][j]['location']\n",
    "                freeze_frame_list.append(isInside(shot_loc,goal_x1y1,goal_x2y2,location))\n",
    "        except KeyError:\n",
    "            freeze_frame_list.append(1) \n",
    "        pack_density_list.append(sum(freeze_frame_list))"
   ]
  },
  {
   "cell_type": "markdown",
   "metadata": {},
   "source": [
    "Calculating Euclidean distance of shot location from center of goal and angle made by shot location with edge defined by the goal"
   ]
  },
  {
   "cell_type": "code",
   "execution_count": 9,
   "metadata": {
    "scrolled": true
   },
   "outputs": [],
   "source": [
    "df = pd.DataFrame(loc_list)"
   ]
  },
  {
   "cell_type": "code",
   "execution_count": 10,
   "metadata": {},
   "outputs": [
    {
     "name": "stderr",
     "output_type": "stream",
     "text": [
      "C:\\Users\\Owner\\Anaconda3\\lib\\site-packages\\ipykernel_launcher.py:5: RuntimeWarning: invalid value encountered in arccos\n",
      "  \"\"\"\n"
     ]
    }
   ],
   "source": [
    "df.columns = ['shot_x','shot_y']\n",
    "df['shot_distance']=round(np.sqrt((df['shot_x']-120)**2+(df['shot_y']-40)**2),1)\n",
    "df['shot_a'] = np.sqrt((df['shot_x']-120)**2+(df['shot_y']-36)**2)\n",
    "df['shot_b']=np.sqrt((df['shot_x']-120)**2+(df['shot_y']-44)**2)\n",
    "df['shot_angle']=np.arccos((df['shot_a']**2+df['shot_b']**2-64)/(2*df['shot_a']*df['shot_b']))#calculating angle using cosine rule\n",
    "df['shot_angle']=np.degrees(df['shot_angle'])\n",
    "df['shot_angle']=round(df['shot_angle'],1)"
   ]
  },
  {
   "cell_type": "markdown",
   "metadata": {},
   "source": [
    "Adding rest of the features to the dataframe"
   ]
  },
  {
   "cell_type": "code",
   "execution_count": 11,
   "metadata": {},
   "outputs": [],
   "source": [
    "df['timestamp']=timestamp_list\n",
    "df['outcome_name']=outcome_name_list\n",
    "df['outcome_id']=outcome_id_list\n",
    "df['body_part_name']=bodypart_name_list\n",
    "df['body_part_id']=bodypart_id_list\n",
    "df['technique_name']=technique_name_list\n",
    "df['technique_id']=technique_id_list\n",
    "df['type_name']=type_name_list\n",
    "df['type_id']=type_id_list\n",
    "df['first_time']=first_time_list\n",
    "df['preceding_event']=preceding_event_list\n",
    "df['pack_density']=pack_density_list\n",
    "df['shot_player']=player_list\n",
    "df['shot_team']=team_list\n",
    "df['key_pass_type']=key_pass_type_list\n",
    "df['preceding_event']=preceding_event_list\n",
    "df['preceding_event_player']=preceding_event_player_list\n",
    "df['preceding_event_team']=preceding_event_team_list\n",
    "df['statsbomb_xg']=statsbomb_xg_list"
   ]
  },
  {
   "cell_type": "code",
   "execution_count": 12,
   "metadata": {
    "scrolled": false
   },
   "outputs": [
    {
     "data": {
      "text/plain": [
       "shot_x                       0\n",
       "shot_y                       0\n",
       "shot_distance                0\n",
       "shot_a                       0\n",
       "shot_b                       0\n",
       "shot_angle                   1\n",
       "timestamp                    0\n",
       "outcome_name                 0\n",
       "outcome_id                   0\n",
       "body_part_name               0\n",
       "body_part_id                 0\n",
       "technique_name               0\n",
       "technique_id                 0\n",
       "type_name                    0\n",
       "type_id                      0\n",
       "first_time                   0\n",
       "preceding_event              0\n",
       "pack_density                 0\n",
       "shot_player                  0\n",
       "shot_team                    0\n",
       "key_pass_type             1845\n",
       "preceding_event_player      11\n",
       "preceding_event_team         0\n",
       "statsbomb_xg                 0\n",
       "dtype: int64"
      ]
     },
     "execution_count": 12,
     "metadata": {},
     "output_type": "execute_result"
    }
   ],
   "source": [
    "df.isna().sum()"
   ]
  },
  {
   "cell_type": "markdown",
   "metadata": {},
   "source": [
    "There are clearly some missing values. A lot of shots don't have an associated key pass which is expected as many shots don't have a key pass before it for e.g a direct freekick. These missing values will be handled in the EDA phase. 1 shot_angle and 11 preceding_event_player values are missing. Analyzing why..."
   ]
  },
  {
   "cell_type": "code",
   "execution_count": 13,
   "metadata": {},
   "outputs": [
    {
     "data": {
      "text/html": [
       "<div>\n",
       "<style scoped>\n",
       "    .dataframe tbody tr th:only-of-type {\n",
       "        vertical-align: middle;\n",
       "    }\n",
       "\n",
       "    .dataframe tbody tr th {\n",
       "        vertical-align: top;\n",
       "    }\n",
       "\n",
       "    .dataframe thead th {\n",
       "        text-align: right;\n",
       "    }\n",
       "</style>\n",
       "<table border=\"1\" class=\"dataframe\">\n",
       "  <thead>\n",
       "    <tr style=\"text-align: right;\">\n",
       "      <th></th>\n",
       "      <th>shot_x</th>\n",
       "      <th>shot_y</th>\n",
       "      <th>shot_distance</th>\n",
       "      <th>shot_a</th>\n",
       "      <th>shot_b</th>\n",
       "      <th>shot_angle</th>\n",
       "      <th>timestamp</th>\n",
       "      <th>...</th>\n",
       "      <th>pack_density</th>\n",
       "      <th>shot_player</th>\n",
       "      <th>shot_team</th>\n",
       "      <th>key_pass_type</th>\n",
       "      <th>preceding_event_player</th>\n",
       "      <th>preceding_event_team</th>\n",
       "      <th>statsbomb_xg</th>\n",
       "    </tr>\n",
       "  </thead>\n",
       "  <tbody>\n",
       "    <tr>\n",
       "      <th>3352</th>\n",
       "      <td>120.0</td>\n",
       "      <td>30.6</td>\n",
       "      <td>9.4</td>\n",
       "      <td>5.4</td>\n",
       "      <td>13.4</td>\n",
       "      <td>NaN</td>\n",
       "      <td>2019-11-19 00:00:19.337</td>\n",
       "      <td>...</td>\n",
       "      <td>7</td>\n",
       "      <td>Lauren James</td>\n",
       "      <td>Manchester United</td>\n",
       "      <td>NaN</td>\n",
       "      <td>Lauren James</td>\n",
       "      <td>Manchester United</td>\n",
       "      <td>0.041893</td>\n",
       "    </tr>\n",
       "  </tbody>\n",
       "</table>\n",
       "<p>1 rows × 24 columns</p>\n",
       "</div>"
      ],
      "text/plain": [
       "      shot_x  shot_y  shot_distance  shot_a  shot_b  shot_angle  \\\n",
       "3352   120.0    30.6            9.4     5.4    13.4         NaN   \n",
       "\n",
       "                   timestamp  ... pack_density   shot_player  \\\n",
       "3352 2019-11-19 00:00:19.337  ...            7  Lauren James   \n",
       "\n",
       "              shot_team  key_pass_type preceding_event_player  \\\n",
       "3352  Manchester United            NaN           Lauren James   \n",
       "\n",
       "      preceding_event_team statsbomb_xg  \n",
       "3352     Manchester United     0.041893  \n",
       "\n",
       "[1 rows x 24 columns]"
      ]
     },
     "execution_count": 13,
     "metadata": {},
     "output_type": "execute_result"
    }
   ],
   "source": [
    "#analyzing missing shot_angle\n",
    "filt1=df['shot_angle'].isna()\n",
    "df[filt1]"
   ]
  },
  {
   "cell_type": "markdown",
   "metadata": {},
   "source": [
    "It seems the x co-ordinate is the same as that of the goal (120). Therefore, since a triangle is not made by the shot location with the goal in this case,the angle should be zero"
   ]
  },
  {
   "cell_type": "code",
   "execution_count": 14,
   "metadata": {},
   "outputs": [],
   "source": [
    "df['shot_angle']=df['shot_angle'].fillna(0)"
   ]
  },
  {
   "cell_type": "code",
   "execution_count": 15,
   "metadata": {},
   "outputs": [
    {
     "data": {
      "text/html": [
       "<div>\n",
       "<style scoped>\n",
       "    .dataframe tbody tr th:only-of-type {\n",
       "        vertical-align: middle;\n",
       "    }\n",
       "\n",
       "    .dataframe tbody tr th {\n",
       "        vertical-align: top;\n",
       "    }\n",
       "\n",
       "    .dataframe thead th {\n",
       "        text-align: right;\n",
       "    }\n",
       "</style>\n",
       "<table border=\"1\" class=\"dataframe\">\n",
       "  <thead>\n",
       "    <tr style=\"text-align: right;\">\n",
       "      <th></th>\n",
       "      <th>preceding_event</th>\n",
       "      <th>preceding_event_player</th>\n",
       "      <th>preceding_event_team</th>\n",
       "    </tr>\n",
       "  </thead>\n",
       "  <tbody>\n",
       "    <tr>\n",
       "      <th>989</th>\n",
       "      <td>Tactical Shift</td>\n",
       "      <td>NaN</td>\n",
       "      <td>West Ham United LFC</td>\n",
       "    </tr>\n",
       "    <tr>\n",
       "      <th>3736</th>\n",
       "      <td>Tactical Shift</td>\n",
       "      <td>NaN</td>\n",
       "      <td>Utah Royals</td>\n",
       "    </tr>\n",
       "    <tr>\n",
       "      <th>3834</th>\n",
       "      <td>Camera On</td>\n",
       "      <td>NaN</td>\n",
       "      <td>Portland Thorns</td>\n",
       "    </tr>\n",
       "    <tr>\n",
       "      <th>4057</th>\n",
       "      <td>Camera On</td>\n",
       "      <td>NaN</td>\n",
       "      <td>North Carolina Courage</td>\n",
       "    </tr>\n",
       "    <tr>\n",
       "      <th>4170</th>\n",
       "      <td>Camera off</td>\n",
       "      <td>NaN</td>\n",
       "      <td>Portland Thorns</td>\n",
       "    </tr>\n",
       "    <tr>\n",
       "      <th>4283</th>\n",
       "      <td>Camera On</td>\n",
       "      <td>NaN</td>\n",
       "      <td>Orlando Pride</td>\n",
       "    </tr>\n",
       "    <tr>\n",
       "      <th>4440</th>\n",
       "      <td>Camera On</td>\n",
       "      <td>NaN</td>\n",
       "      <td>Washington Spirit</td>\n",
       "    </tr>\n",
       "    <tr>\n",
       "      <th>4882</th>\n",
       "      <td>Half Start</td>\n",
       "      <td>NaN</td>\n",
       "      <td>Korea Republic Women's</td>\n",
       "    </tr>\n",
       "    <tr>\n",
       "      <th>5174</th>\n",
       "      <td>Tactical Shift</td>\n",
       "      <td>NaN</td>\n",
       "      <td>Korea Republic Women's</td>\n",
       "    </tr>\n",
       "    <tr>\n",
       "      <th>5470</th>\n",
       "      <td>Tactical Shift</td>\n",
       "      <td>NaN</td>\n",
       "      <td>Norway Women's</td>\n",
       "    </tr>\n",
       "    <tr>\n",
       "      <th>5480</th>\n",
       "      <td>Half Start</td>\n",
       "      <td>NaN</td>\n",
       "      <td>Norway Women's</td>\n",
       "    </tr>\n",
       "  </tbody>\n",
       "</table>\n",
       "</div>"
      ],
      "text/plain": [
       "     preceding_event preceding_event_player    preceding_event_team\n",
       "989   Tactical Shift                    NaN     West Ham United LFC\n",
       "3736  Tactical Shift                    NaN             Utah Royals\n",
       "3834       Camera On                    NaN         Portland Thorns\n",
       "4057       Camera On                    NaN  North Carolina Courage\n",
       "4170      Camera off                    NaN         Portland Thorns\n",
       "4283       Camera On                    NaN           Orlando Pride\n",
       "4440       Camera On                    NaN       Washington Spirit\n",
       "4882      Half Start                    NaN  Korea Republic Women's\n",
       "5174  Tactical Shift                    NaN  Korea Republic Women's\n",
       "5470  Tactical Shift                    NaN          Norway Women's\n",
       "5480      Half Start                    NaN          Norway Women's"
      ]
     },
     "execution_count": 15,
     "metadata": {},
     "output_type": "execute_result"
    }
   ],
   "source": [
    "#analyzing missing preceding_event_player\n",
    "filt1=df['preceding_event_player'].isna()\n",
    "df[filt1][['preceding_event','preceding_event_player','preceding_event_team']]"
   ]
  },
  {
   "cell_type": "markdown",
   "metadata": {},
   "source": [
    "It seems some incidents were not captured on camera, while some were tactical shifts (formation changes) which cannot be pinned to one player. As a result, the best recourse would be to drop these missing rows"
   ]
  },
  {
   "cell_type": "code",
   "execution_count": 16,
   "metadata": {},
   "outputs": [],
   "source": [
    "df=df.dropna(how='any',subset=['preceding_event_player'])"
   ]
  },
  {
   "cell_type": "code",
   "execution_count": 17,
   "metadata": {},
   "outputs": [
    {
     "data": {
      "text/plain": [
       "(5918, 24)"
      ]
     },
     "execution_count": 17,
     "metadata": {},
     "output_type": "execute_result"
    }
   ],
   "source": [
    "df.shape"
   ]
  },
  {
   "cell_type": "code",
   "execution_count": 18,
   "metadata": {},
   "outputs": [],
   "source": [
    "df.to_pickle('./wrangled_dataframe.pkl')"
   ]
  },
  {
   "cell_type": "code",
   "execution_count": null,
   "metadata": {},
   "outputs": [],
   "source": []
  },
  {
   "cell_type": "code",
   "execution_count": null,
   "metadata": {},
   "outputs": [],
   "source": []
  }
 ],
 "metadata": {
  "kernelspec": {
   "display_name": "Python 3",
   "language": "python",
   "name": "python3"
  },
  "language_info": {
   "codemirror_mode": {
    "name": "ipython",
    "version": 3
   },
   "file_extension": ".py",
   "mimetype": "text/x-python",
   "name": "python",
   "nbconvert_exporter": "python",
   "pygments_lexer": "ipython3",
   "version": "3.7.3"
  }
 },
 "nbformat": 4,
 "nbformat_minor": 2
}
