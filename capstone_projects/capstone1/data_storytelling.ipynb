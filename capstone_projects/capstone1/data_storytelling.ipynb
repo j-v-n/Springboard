{
 "cells": [
  {
   "cell_type": "markdown",
   "metadata": {},
   "source": [
    "# Building an Expected Goals Model for Shot-Event Data"
   ]
  },
  {
   "cell_type": "markdown",
   "metadata": {},
   "source": [
    "By Jayanth Nair, A Springboard Capstone Project"
   ]
  },
  {
   "cell_type": "markdown",
   "metadata": {},
   "source": [
    "***Introduction***"
   ]
  },
  {
   "cell_type": "markdown",
   "metadata": {},
   "source": [
    "The following table contains statistics from a very famous (or rather infamous) game of football, obtained from Christoph Biermann's book Football Hackers. It describes the game with conventional statistical metrics. "
   ]
  },
  {
   "cell_type": "markdown",
   "metadata": {},
   "source": [
    "|                             | Team A | Team B |\n",
    "|-----------------------------|:------:|:------:|\n",
    "|          Possession         |   52%  |   48%  |\n",
    "| Passes into the 18 yard box |   19   |   11   |\n",
    "|           Crosses           |   22   |   10   |\n",
    "|           Corners           |    7   |    5   |\n",
    "|      Dangerous attacks      |   55   |   34   |\n",
    "|         Tackles won         |    5   |    1   |\n",
    "|          Lost balls         |   69   |   76   |\n",
    "|            Shots            |   18   |   14   |\n",
    "|       Shots on Target       |   13   |   12   |"
   ]
  },
  {
   "cell_type": "markdown",
   "metadata": {},
   "source": [
    "Upon first look, most people would conclude that Team A ran out comfortable winners. However, in reality Team B were the winners by some margin. These statistics are from the 2014 World Cup semi-final between Brazil and Germany. Team B were Germany. They won by 7 goals to 1."
   ]
  },
  {
   "cell_type": "markdown",
   "metadata": {},
   "source": [
    "Following the footsteps of baseball (Moneyball and more recently, Astroball) and basketball (Daryl Morey and the Houston Rockets), football/soccer is now undergoing a 'statistical revolution'. New statistical metrics are being developed which can quantify game scenarios better, thereby refining game tactics and player recruitment."
   ]
  },
  {
   "cell_type": "markdown",
   "metadata": {},
   "source": [
    "***What is Expected Goals?***"
   ]
  },
  {
   "cell_type": "markdown",
   "metadata": {},
   "source": [
    "One of the relatively ubiquitous 'new' statistical metrics is Expected Goals (xG). xG essentially quantifies the quality of a shot by the probability of that shot being a goal. Intuitively, we know that a shot taken from outside the box is much less likely to be a goal than one being taken near the goal line. xG is a mere quantification of this intuitiveness. Some examples are below:"
   ]
  },
  {
   "cell_type": "markdown",
   "metadata": {},
   "source": [
    "![Pavard Goal](https://media.giphy.com/media/jaJkRgaIT6wLayz5V7/giphy.gif)"
   ]
  },
  {
   "cell_type": "markdown",
   "metadata": {},
   "source": [
    "This belter from Benjamin Pavard in the 2018 World Cup from outside the box will have a lower xG, while the goal below by Barcelona will have a much higher xG"
   ]
  },
  {
   "cell_type": "markdown",
   "metadata": {},
   "source": [
    "![Barcelona Goal](https://media.giphy.com/media/zRqwfjscelwlO/giphy.gif)"
   ]
  },
  {
   "cell_type": "markdown",
   "metadata": {},
   "source": [
    "***Why do we need xG?***"
   ]
  },
  {
   "cell_type": "markdown",
   "metadata": {},
   "source": [
    "xG is an excellent predictor of how good a team is going forward, i.e attacking. The following is a snippet of the Premier League table on Nov 11, 2019 in descending order of points from Understat. (G is Goals scored and xG is, well, xG).\n",
    "\n",
    "As you can see, the xG numbers match pretty well with the actual goals scored for each team, with some notable exceptions. Leicester City's attackers are ruthless in front of goal, outperforming their xG numbers significantly. Watford, Southampton and Manchester United on the other end seem to be underperforming as per their xG. "
   ]
  },
  {
   "cell_type": "markdown",
   "metadata": {},
   "source": [
    "![xGtable](https://i.imgur.com/LYwQilo.png)"
   ]
  },
  {
   "cell_type": "markdown",
   "metadata": {},
   "source": [
    "Similary expected goals against or xGA can be used to quantify the quality of shots a team faces.  This can be used as an indicator of how good a team's defense is. Below is a table of goals allowed and xGA. At the top end of the table, Leicester and Sheffield United (!!!) seem to be outperforming their xGA numbers while Chelsea seem to be struggling.  The bottom three are all struggling with their defenses leaking goals. \n",
    "\n",
    "Both Watford and Southampton were at the receiving end of 0-6 and 0-9 maulings this season, so that will skew their numbers a little."
   ]
  },
  {
   "cell_type": "markdown",
   "metadata": {},
   "source": [
    "![xGatable](https://i.imgur.com/PWp0wQn.png)"
   ]
  },
  {
   "cell_type": "markdown",
   "metadata": {},
   "source": [
    "***Objective***"
   ]
  },
  {
   "cell_type": "markdown",
   "metadata": {},
   "source": [
    "My objective with this project is to create my own xG model. The dataset I am using is the [Statsbomb open dataset](https://github.com/statsbomb/open-data). Specifically, I will be using the women's soccer dataset which contains data from 2 seasons of the FA WSL, 1 season of NWSL and the 2018 women's world cup"
   ]
  },
  {
   "cell_type": "markdown",
   "metadata": {},
   "source": [
    "The data contains 229 games and 5929 shots which should be sufficient to build a workable xG model"
   ]
  },
  {
   "cell_type": "markdown",
   "metadata": {},
   "source": [
    "The approach will be hypothesis-driven. In any hypothesis driven approach, there needs to be a hypothesis tree which drives the data wrangling and exploration.  The hypothesis tree for this project is given below:"
   ]
  },
  {
   "cell_type": "markdown",
   "metadata": {},
   "source": [
    "![decision_tree](https://imgur.com/wrmwByq.png)"
   ]
  },
  {
   "cell_type": "markdown",
   "metadata": {},
   "source": [
    "### Data Storytelling"
   ]
  },
  {
   "cell_type": "markdown",
   "metadata": {},
   "source": [
    "Based on the above decision tree, let's start exploring the data. "
   ]
  },
  {
   "cell_type": "markdown",
   "metadata": {},
   "source": [
    "### Step 1 - Importing Necessary Modules"
   ]
  },
  {
   "cell_type": "code",
   "execution_count": 2,
   "metadata": {},
   "outputs": [],
   "source": [
    "import pandas as pd\n",
    "import numpy as np\n",
    "import matplotlib.pyplot as plt\n",
    "import seaborn as sns\n",
    "%matplotlib inline\n",
    "pd.options.display.max_columns = 15"
   ]
  },
  {
   "cell_type": "markdown",
   "metadata": {},
   "source": [
    "### Step 2 - Reading the pickled dataframe "
   ]
  },
  {
   "cell_type": "code",
   "execution_count": 4,
   "metadata": {},
   "outputs": [
    {
     "data": {
      "text/html": [
       "<div>\n",
       "<style scoped>\n",
       "    .dataframe tbody tr th:only-of-type {\n",
       "        vertical-align: middle;\n",
       "    }\n",
       "\n",
       "    .dataframe tbody tr th {\n",
       "        vertical-align: top;\n",
       "    }\n",
       "\n",
       "    .dataframe thead th {\n",
       "        text-align: right;\n",
       "    }\n",
       "</style>\n",
       "<table border=\"1\" class=\"dataframe\">\n",
       "  <thead>\n",
       "    <tr style=\"text-align: right;\">\n",
       "      <th></th>\n",
       "      <th>shot_x</th>\n",
       "      <th>shot_y</th>\n",
       "      <th>shot_distance</th>\n",
       "      <th>shot_a</th>\n",
       "      <th>shot_b</th>\n",
       "      <th>shot_angle</th>\n",
       "      <th>timestamp</th>\n",
       "      <th>...</th>\n",
       "      <th>key_pass_type</th>\n",
       "      <th>key_pass_pattern</th>\n",
       "      <th>isCross</th>\n",
       "      <th>isCutback</th>\n",
       "      <th>preceding_event_player</th>\n",
       "      <th>preceding_event_team</th>\n",
       "      <th>statsbomb_xg</th>\n",
       "    </tr>\n",
       "  </thead>\n",
       "  <tbody>\n",
       "    <tr>\n",
       "      <th>0</th>\n",
       "      <td>86.7</td>\n",
       "      <td>57.4</td>\n",
       "      <td>37.6</td>\n",
       "      <td>39.583456</td>\n",
       "      <td>35.894986</td>\n",
       "      <td>10.8</td>\n",
       "      <td>2019-12-06 00:04:36.133</td>\n",
       "      <td>...</td>\n",
       "      <td>None</td>\n",
       "      <td>None</td>\n",
       "      <td>False</td>\n",
       "      <td>False</td>\n",
       "      <td>Taylor Hinds</td>\n",
       "      <td>Everton LFC</td>\n",
       "      <td>0.013571</td>\n",
       "    </tr>\n",
       "    <tr>\n",
       "      <th>1</th>\n",
       "      <td>93.9</td>\n",
       "      <td>34.5</td>\n",
       "      <td>26.7</td>\n",
       "      <td>26.143068</td>\n",
       "      <td>27.775169</td>\n",
       "      <td>16.7</td>\n",
       "      <td>2019-12-06 00:04:40.569</td>\n",
       "      <td>...</td>\n",
       "      <td>None</td>\n",
       "      <td>None</td>\n",
       "      <td>False</td>\n",
       "      <td>False</td>\n",
       "      <td>Inessa Kaagman</td>\n",
       "      <td>Everton LFC</td>\n",
       "      <td>0.049914</td>\n",
       "    </tr>\n",
       "    <tr>\n",
       "      <th>2</th>\n",
       "      <td>95.8</td>\n",
       "      <td>47.1</td>\n",
       "      <td>25.2</td>\n",
       "      <td>26.624237</td>\n",
       "      <td>24.397746</td>\n",
       "      <td>17.3</td>\n",
       "      <td>2019-12-06 00:05:52.550</td>\n",
       "      <td>...</td>\n",
       "      <td>None</td>\n",
       "      <td>None</td>\n",
       "      <td>False</td>\n",
       "      <td>False</td>\n",
       "      <td>Abbey-Leigh Stringer</td>\n",
       "      <td>Birmingham City WFC</td>\n",
       "      <td>0.022202</td>\n",
       "    </tr>\n",
       "    <tr>\n",
       "      <th>3</th>\n",
       "      <td>109.6</td>\n",
       "      <td>54.5</td>\n",
       "      <td>17.8</td>\n",
       "      <td>21.222865</td>\n",
       "      <td>14.778701</td>\n",
       "      <td>15.4</td>\n",
       "      <td>2019-12-06 00:07:03.244</td>\n",
       "      <td>...</td>\n",
       "      <td>Ground Pass</td>\n",
       "      <td>From Throw In</td>\n",
       "      <td>False</td>\n",
       "      <td>False</td>\n",
       "      <td>Inessa Kaagman</td>\n",
       "      <td>Everton LFC</td>\n",
       "      <td>0.078857</td>\n",
       "    </tr>\n",
       "    <tr>\n",
       "      <th>4</th>\n",
       "      <td>95.0</td>\n",
       "      <td>44.8</td>\n",
       "      <td>25.5</td>\n",
       "      <td>26.503585</td>\n",
       "      <td>25.012797</td>\n",
       "      <td>17.6</td>\n",
       "      <td>2019-12-06 00:08:15.644</td>\n",
       "      <td>...</td>\n",
       "      <td>None</td>\n",
       "      <td>None</td>\n",
       "      <td>False</td>\n",
       "      <td>False</td>\n",
       "      <td>Hayley Ladd</td>\n",
       "      <td>Birmingham City WFC</td>\n",
       "      <td>0.031914</td>\n",
       "    </tr>\n",
       "  </tbody>\n",
       "</table>\n",
       "<p>5 rows × 27 columns</p>\n",
       "</div>"
      ],
      "text/plain": [
       "   shot_x  shot_y  shot_distance     shot_a     shot_b  shot_angle  \\\n",
       "0    86.7    57.4           37.6  39.583456  35.894986        10.8   \n",
       "1    93.9    34.5           26.7  26.143068  27.775169        16.7   \n",
       "2    95.8    47.1           25.2  26.624237  24.397746        17.3   \n",
       "3   109.6    54.5           17.8  21.222865  14.778701        15.4   \n",
       "4    95.0    44.8           25.5  26.503585  25.012797        17.6   \n",
       "\n",
       "                timestamp  ... key_pass_type  key_pass_pattern isCross  \\\n",
       "0 2019-12-06 00:04:36.133  ...          None              None   False   \n",
       "1 2019-12-06 00:04:40.569  ...          None              None   False   \n",
       "2 2019-12-06 00:05:52.550  ...          None              None   False   \n",
       "3 2019-12-06 00:07:03.244  ...   Ground Pass     From Throw In   False   \n",
       "4 2019-12-06 00:08:15.644  ...          None              None   False   \n",
       "\n",
       "   isCutback preceding_event_player  preceding_event_team statsbomb_xg  \n",
       "0      False           Taylor Hinds           Everton LFC     0.013571  \n",
       "1      False         Inessa Kaagman           Everton LFC     0.049914  \n",
       "2      False   Abbey-Leigh Stringer   Birmingham City WFC     0.022202  \n",
       "3      False         Inessa Kaagman           Everton LFC     0.078857  \n",
       "4      False            Hayley Ladd   Birmingham City WFC     0.031914  \n",
       "\n",
       "[5 rows x 27 columns]"
      ]
     },
     "execution_count": 4,
     "metadata": {},
     "output_type": "execute_result"
    }
   ],
   "source": [
    "df = pd.read_pickle('./wrangled_dataframe.pkl')\n",
    "df.head()"
   ]
  },
  {
   "cell_type": "code",
   "execution_count": 5,
   "metadata": {},
   "outputs": [
    {
     "name": "stdout",
     "output_type": "stream",
     "text": [
      "<class 'pandas.core.frame.DataFrame'>\n",
      "Int64Index: 5918 entries, 0 to 5928\n",
      "Data columns (total 27 columns):\n",
      "shot_x                    5918 non-null float64\n",
      "shot_y                    5918 non-null float64\n",
      "shot_distance             5918 non-null float64\n",
      "shot_a                    5918 non-null float64\n",
      "shot_b                    5918 non-null float64\n",
      "shot_angle                5918 non-null float64\n",
      "timestamp                 5918 non-null datetime64[ns]\n",
      "outcome_name              5918 non-null object\n",
      "outcome_id                5918 non-null int64\n",
      "body_part_name            5918 non-null object\n",
      "body_part_id              5918 non-null int64\n",
      "technique_name            5918 non-null object\n",
      "technique_id              5918 non-null int64\n",
      "type_name                 5918 non-null object\n",
      "type_id                   5918 non-null int64\n",
      "first_time                5918 non-null bool\n",
      "preceding_event           5918 non-null object\n",
      "pack_density              5918 non-null int64\n",
      "shot_player               5918 non-null object\n",
      "home_or_away              5918 non-null object\n",
      "key_pass_type             5918 non-null object\n",
      "key_pass_pattern          5918 non-null object\n",
      "isCross                   5918 non-null bool\n",
      "isCutback                 5918 non-null bool\n",
      "preceding_event_player    5918 non-null object\n",
      "preceding_event_team      5918 non-null object\n",
      "statsbomb_xg              5918 non-null float64\n",
      "dtypes: bool(3), datetime64[ns](1), float64(7), int64(5), object(11)\n",
      "memory usage: 1.1+ MB\n"
     ]
    }
   ],
   "source": [
    "df.info()"
   ]
  },
  {
   "cell_type": "code",
   "execution_count": 6,
   "metadata": {},
   "outputs": [
    {
     "data": {
      "text/html": [
       "<div>\n",
       "<style scoped>\n",
       "    .dataframe tbody tr th:only-of-type {\n",
       "        vertical-align: middle;\n",
       "    }\n",
       "\n",
       "    .dataframe tbody tr th {\n",
       "        vertical-align: top;\n",
       "    }\n",
       "\n",
       "    .dataframe thead th {\n",
       "        text-align: right;\n",
       "    }\n",
       "</style>\n",
       "<table border=\"1\" class=\"dataframe\">\n",
       "  <thead>\n",
       "    <tr style=\"text-align: right;\">\n",
       "      <th></th>\n",
       "      <th>shot_x</th>\n",
       "      <th>shot_y</th>\n",
       "      <th>shot_distance</th>\n",
       "      <th>shot_a</th>\n",
       "      <th>shot_b</th>\n",
       "      <th>shot_angle</th>\n",
       "      <th>outcome_id</th>\n",
       "      <th>body_part_id</th>\n",
       "      <th>technique_id</th>\n",
       "      <th>type_id</th>\n",
       "      <th>pack_density</th>\n",
       "      <th>statsbomb_xg</th>\n",
       "    </tr>\n",
       "  </thead>\n",
       "  <tbody>\n",
       "    <tr>\n",
       "      <th>count</th>\n",
       "      <td>5918.000000</td>\n",
       "      <td>5918.000000</td>\n",
       "      <td>5918.000000</td>\n",
       "      <td>5918.000000</td>\n",
       "      <td>5918.000000</td>\n",
       "      <td>5918.000000</td>\n",
       "      <td>5918.000000</td>\n",
       "      <td>5918.000000</td>\n",
       "      <td>5918.000000</td>\n",
       "      <td>5918.000000</td>\n",
       "      <td>5918.000000</td>\n",
       "      <td>5918.000000</td>\n",
       "    </tr>\n",
       "    <tr>\n",
       "      <th>mean</th>\n",
       "      <td>103.867033</td>\n",
       "      <td>40.215985</td>\n",
       "      <td>18.883525</td>\n",
       "      <td>19.338181</td>\n",
       "      <td>19.248281</td>\n",
       "      <td>26.639929</td>\n",
       "      <td>98.219162</td>\n",
       "      <td>39.016053</td>\n",
       "      <td>92.944745</td>\n",
       "      <td>86.251267</td>\n",
       "      <td>1.982258</td>\n",
       "      <td>0.098045</td>\n",
       "    </tr>\n",
       "    <tr>\n",
       "      <th>std</th>\n",
       "      <td>9.084062</td>\n",
       "      <td>9.832112</td>\n",
       "      <td>9.099585</td>\n",
       "      <td>9.124490</td>\n",
       "      <td>9.125212</td>\n",
       "      <td>17.901006</td>\n",
       "      <td>2.134910</td>\n",
       "      <td>1.809663</td>\n",
       "      <td>0.770081</td>\n",
       "      <td>4.297996</td>\n",
       "      <td>1.394061</td>\n",
       "      <td>0.137525</td>\n",
       "    </tr>\n",
       "    <tr>\n",
       "      <th>min</th>\n",
       "      <td>58.000000</td>\n",
       "      <td>5.000000</td>\n",
       "      <td>1.000000</td>\n",
       "      <td>1.019804</td>\n",
       "      <td>1.000000</td>\n",
       "      <td>0.000000</td>\n",
       "      <td>96.000000</td>\n",
       "      <td>37.000000</td>\n",
       "      <td>89.000000</td>\n",
       "      <td>61.000000</td>\n",
       "      <td>0.000000</td>\n",
       "      <td>0.001712</td>\n",
       "    </tr>\n",
       "    <tr>\n",
       "      <th>25%</th>\n",
       "      <td>97.525000</td>\n",
       "      <td>33.200000</td>\n",
       "      <td>11.500000</td>\n",
       "      <td>12.041595</td>\n",
       "      <td>12.111145</td>\n",
       "      <td>14.900000</td>\n",
       "      <td>97.000000</td>\n",
       "      <td>38.000000</td>\n",
       "      <td>93.000000</td>\n",
       "      <td>87.000000</td>\n",
       "      <td>1.000000</td>\n",
       "      <td>0.023362</td>\n",
       "    </tr>\n",
       "    <tr>\n",
       "      <th>50%</th>\n",
       "      <td>105.600000</td>\n",
       "      <td>40.000000</td>\n",
       "      <td>17.700000</td>\n",
       "      <td>18.365319</td>\n",
       "      <td>18.027756</td>\n",
       "      <td>20.200000</td>\n",
       "      <td>98.000000</td>\n",
       "      <td>40.000000</td>\n",
       "      <td>93.000000</td>\n",
       "      <td>87.000000</td>\n",
       "      <td>2.000000</td>\n",
       "      <td>0.044403</td>\n",
       "    </tr>\n",
       "    <tr>\n",
       "      <th>75%</th>\n",
       "      <td>111.000000</td>\n",
       "      <td>47.000000</td>\n",
       "      <td>25.500000</td>\n",
       "      <td>25.961654</td>\n",
       "      <td>25.709920</td>\n",
       "      <td>33.575000</td>\n",
       "      <td>100.000000</td>\n",
       "      <td>40.000000</td>\n",
       "      <td>93.000000</td>\n",
       "      <td>87.000000</td>\n",
       "      <td>2.000000</td>\n",
       "      <td>0.104874</td>\n",
       "    </tr>\n",
       "    <tr>\n",
       "      <th>max</th>\n",
       "      <td>120.000000</td>\n",
       "      <td>79.500000</td>\n",
       "      <td>69.200000</td>\n",
       "      <td>71.562350</td>\n",
       "      <td>67.013208</td>\n",
       "      <td>151.900000</td>\n",
       "      <td>116.000000</td>\n",
       "      <td>70.000000</td>\n",
       "      <td>95.000000</td>\n",
       "      <td>88.000000</td>\n",
       "      <td>11.000000</td>\n",
       "      <td>0.937590</td>\n",
       "    </tr>\n",
       "  </tbody>\n",
       "</table>\n",
       "</div>"
      ],
      "text/plain": [
       "            shot_x       shot_y  shot_distance       shot_a       shot_b  \\\n",
       "count  5918.000000  5918.000000    5918.000000  5918.000000  5918.000000   \n",
       "mean    103.867033    40.215985      18.883525    19.338181    19.248281   \n",
       "std       9.084062     9.832112       9.099585     9.124490     9.125212   \n",
       "min      58.000000     5.000000       1.000000     1.019804     1.000000   \n",
       "25%      97.525000    33.200000      11.500000    12.041595    12.111145   \n",
       "50%     105.600000    40.000000      17.700000    18.365319    18.027756   \n",
       "75%     111.000000    47.000000      25.500000    25.961654    25.709920   \n",
       "max     120.000000    79.500000      69.200000    71.562350    67.013208   \n",
       "\n",
       "        shot_angle   outcome_id  body_part_id  technique_id      type_id  \\\n",
       "count  5918.000000  5918.000000   5918.000000   5918.000000  5918.000000   \n",
       "mean     26.639929    98.219162     39.016053     92.944745    86.251267   \n",
       "std      17.901006     2.134910      1.809663      0.770081     4.297996   \n",
       "min       0.000000    96.000000     37.000000     89.000000    61.000000   \n",
       "25%      14.900000    97.000000     38.000000     93.000000    87.000000   \n",
       "50%      20.200000    98.000000     40.000000     93.000000    87.000000   \n",
       "75%      33.575000   100.000000     40.000000     93.000000    87.000000   \n",
       "max     151.900000   116.000000     70.000000     95.000000    88.000000   \n",
       "\n",
       "       pack_density  statsbomb_xg  \n",
       "count   5918.000000   5918.000000  \n",
       "mean       1.982258      0.098045  \n",
       "std        1.394061      0.137525  \n",
       "min        0.000000      0.001712  \n",
       "25%        1.000000      0.023362  \n",
       "50%        2.000000      0.044403  \n",
       "75%        2.000000      0.104874  \n",
       "max       11.000000      0.937590  "
      ]
     },
     "execution_count": 6,
     "metadata": {},
     "output_type": "execute_result"
    }
   ],
   "source": [
    "df.describe()"
   ]
  },
  {
   "cell_type": "markdown",
   "metadata": {},
   "source": [
    "### Step 3 - Initial Visual Exploratory Analysis"
   ]
  },
  {
   "cell_type": "markdown",
   "metadata": {},
   "source": [
    "Before we dissect the decision tree, let's plot all the shot locations on to a pitch"
   ]
  },
  {
   "cell_type": "markdown",
   "metadata": {},
   "source": [
    "The following code creates the football pitch (courtesy: [PythonFC](https://fcpython.com/visualisation/drawing-pitchmap-adding-lines-circles-matplotlib))"
   ]
  },
  {
   "cell_type": "code",
   "execution_count": 9,
   "metadata": {},
   "outputs": [],
   "source": [
    "from matplotlib.patches import Arc"
   ]
  },
  {
   "cell_type": "code",
   "execution_count": 10,
   "metadata": {},
   "outputs": [],
   "source": [
    "# plotting shots on to a pitch\n",
    "\n",
    "def pitch_creator():\n",
    "    fig = plt.figure()\n",
    "    plt.axis([60, 125, -10, 90])\n",
    "    plt.grid(False)\n",
    "\n",
    "\n",
    "    plt.plot([60, 60], [0, 80], color='black')\n",
    "    plt.plot([120, 120], [0, 80], color=\"black\")\n",
    "    plt.plot([60, 120], [0, 0], color='black')\n",
    "    plt.plot([60, 120], [80, 80], color='black')\n",
    "\n",
    "    centreCircle = plt.Circle((60, 40), 10, color='black', fill=False)\n",
    "\n",
    "    # right penalty area\n",
    "    plt.plot([120, 102], [18, 18], color='black')\n",
    "    plt.plot([102, 102], [18, 62], color='black')\n",
    "    plt.plot([102, 120], [62, 62], color='black')\n",
    "\n",
    "    # right six yard box\n",
    "    plt.plot([120, 114], [30, 30], color='black')\n",
    "    plt.plot([114, 114], [30, 50], color='black')\n",
    "    plt.plot([114, 120], [50, 50], color='black')\n",
    "\n",
    "\n",
    "    # right goal posts\n",
    "    plt.plot([120, 122], [36, 36], color='black')\n",
    "    plt.plot([120, 122], [44, 44], color='black')\n",
    "    plt.plot([122, 122], [36, 44], color='black')\n",
    "\n",
    "\n",
    "    # right Arc\n",
    "    rightArc = Arc((108, 40), height=18.3, width=18.3, angle=0,\n",
    "                   theta1=130, theta2=230, color='red')\n",
    "\n",
    "    ax = plt.gca()\n",
    "    ax.add_patch(centreCircle)\n",
    "    ax.add_patch(rightArc)\n",
    "    ax.set_ylim(ax.get_ylim()[::-1])\n",
    "    return fig\n",
    "\n",
    "def plotter(fig,loc_list,color,label):\n",
    "    \n",
    "    loc_x=[]\n",
    "    loc_y=[]\n",
    "    for loc in loc_list:\n",
    "        loc_x.append(loc[0])\n",
    "        loc_y.append(loc[1])\n",
    "            \n",
    "    plt.scatter(loc_x,loc_y,c=color,alpha='0.6',label=label,edgecolor='black',linewidth=0.5)\n",
    "    plt.axis('off')\n",
    "    \n",
    "    \n",
    "    return fig"
   ]
  },
  {
   "cell_type": "code",
   "execution_count": 12,
   "metadata": {},
   "outputs": [
    {
     "data": {
      "image/png": "[encoded data removed]",
      "text/plain": [
       "<Figure size 432x288 with 1 Axes>"
      ]
     },
     "metadata": {
      "needs_background": "light"
     },
     "output_type": "display_data"
    }
   ],
   "source": [
    "#plotting all data\n",
    "plt1 = pitch_creator()\n",
    "plt1 = plotter(plt,df[['shot_x','shot_y']].values,'skyblue','shots')\n",
    "plt1 = plotter(plt,df[df['outcome_name']=='Goal'][['shot_x','shot_y']].values,'red','goals')\n",
    "plt.legend(loc='upper right')\n",
    "plt.show()"
   ]
  },
  {
   "cell_type": "markdown",
   "metadata": {},
   "source": [
    "Visually we can see that most goals result from shots closer to the goal and located more centrally within the pitch with the exception of outliers"
   ]
  },
  {
   "cell_type": "markdown",
   "metadata": {},
   "source": [
    "To make it easier to discern goals from shots which don't result in goals for plotting and other calculations, let's add two more columns to the dataframe - isGoal and isGoalBool"
   ]
  },
  {
   "cell_type": "code",
   "execution_count": 13,
   "metadata": {},
   "outputs": [],
   "source": [
    "isGoal=[]\n",
    "isGoalBool = []\n",
    "for outcome in df['outcome_name'].values:\n",
    "    if outcome=='Goal':\n",
    "        isGoal.append('Goal')\n",
    "        isGoalBool.append(True)\n",
    "    else:\n",
    "        isGoal.append('Not Goal')\n",
    "        isGoalBool.append(False)"
   ]
  },
  {
   "cell_type": "code",
   "execution_count": 14,
   "metadata": {},
   "outputs": [],
   "source": [
    "df['isGoal']=isGoal\n",
    "df['isGoalBool']=isGoalBool"
   ]
  },
  {
   "cell_type": "markdown",
   "metadata": {},
   "source": [
    "### Step 5 - EDA Using the Proposed Hypothesis Tree"
   ]
  },
  {
   "cell_type": "markdown",
   "metadata": {},
   "source": [
    "First, let's look at open play shot types"
   ]
  },
  {
   "cell_type": "code",
   "execution_count": 15,
   "metadata": {},
   "outputs": [
    {
     "data": {
      "text/html": [
       "<div>\n",
       "<style scoped>\n",
       "    .dataframe tbody tr th:only-of-type {\n",
       "        vertical-align: middle;\n",
       "    }\n",
       "\n",
       "    .dataframe tbody tr th {\n",
       "        vertical-align: top;\n",
       "    }\n",
       "\n",
       "    .dataframe thead th {\n",
       "        text-align: right;\n",
       "    }\n",
       "</style>\n",
       "<table border=\"1\" class=\"dataframe\">\n",
       "  <thead>\n",
       "    <tr style=\"text-align: right;\">\n",
       "      <th></th>\n",
       "      <th>shot_x</th>\n",
       "      <th>shot_y</th>\n",
       "      <th>shot_distance</th>\n",
       "      <th>shot_a</th>\n",
       "      <th>shot_b</th>\n",
       "      <th>shot_angle</th>\n",
       "      <th>timestamp</th>\n",
       "      <th>...</th>\n",
       "      <th>isCross</th>\n",
       "      <th>isCutback</th>\n",
       "      <th>preceding_event_player</th>\n",
       "      <th>preceding_event_team</th>\n",
       "      <th>statsbomb_xg</th>\n",
       "      <th>isGoal</th>\n",
       "      <th>isGoalBool</th>\n",
       "    </tr>\n",
       "  </thead>\n",
       "  <tbody>\n",
       "    <tr>\n",
       "      <th>0</th>\n",
       "      <td>86.7</td>\n",
       "      <td>57.4</td>\n",
       "      <td>37.6</td>\n",
       "      <td>39.583456</td>\n",
       "      <td>35.894986</td>\n",
       "      <td>10.8</td>\n",
       "      <td>2019-12-06 00:04:36.133</td>\n",
       "      <td>...</td>\n",
       "      <td>False</td>\n",
       "      <td>False</td>\n",
       "      <td>Taylor Hinds</td>\n",
       "      <td>Everton LFC</td>\n",
       "      <td>0.013571</td>\n",
       "      <td>Not Goal</td>\n",
       "      <td>False</td>\n",
       "    </tr>\n",
       "    <tr>\n",
       "      <th>1</th>\n",
       "      <td>93.9</td>\n",
       "      <td>34.5</td>\n",
       "      <td>26.7</td>\n",
       "      <td>26.143068</td>\n",
       "      <td>27.775169</td>\n",
       "      <td>16.7</td>\n",
       "      <td>2019-12-06 00:04:40.569</td>\n",
       "      <td>...</td>\n",
       "      <td>False</td>\n",
       "      <td>False</td>\n",
       "      <td>Inessa Kaagman</td>\n",
       "      <td>Everton LFC</td>\n",
       "      <td>0.049914</td>\n",
       "      <td>Not Goal</td>\n",
       "      <td>False</td>\n",
       "    </tr>\n",
       "    <tr>\n",
       "      <th>2</th>\n",
       "      <td>95.8</td>\n",
       "      <td>47.1</td>\n",
       "      <td>25.2</td>\n",
       "      <td>26.624237</td>\n",
       "      <td>24.397746</td>\n",
       "      <td>17.3</td>\n",
       "      <td>2019-12-06 00:05:52.550</td>\n",
       "      <td>...</td>\n",
       "      <td>False</td>\n",
       "      <td>False</td>\n",
       "      <td>Abbey-Leigh Stringer</td>\n",
       "      <td>Birmingham City WFC</td>\n",
       "      <td>0.022202</td>\n",
       "      <td>Not Goal</td>\n",
       "      <td>False</td>\n",
       "    </tr>\n",
       "    <tr>\n",
       "      <th>3</th>\n",
       "      <td>109.6</td>\n",
       "      <td>54.5</td>\n",
       "      <td>17.8</td>\n",
       "      <td>21.222865</td>\n",
       "      <td>14.778701</td>\n",
       "      <td>15.4</td>\n",
       "      <td>2019-12-06 00:07:03.244</td>\n",
       "      <td>...</td>\n",
       "      <td>False</td>\n",
       "      <td>False</td>\n",
       "      <td>Inessa Kaagman</td>\n",
       "      <td>Everton LFC</td>\n",
       "      <td>0.078857</td>\n",
       "      <td>Goal</td>\n",
       "      <td>True</td>\n",
       "    </tr>\n",
       "    <tr>\n",
       "      <th>4</th>\n",
       "      <td>95.0</td>\n",
       "      <td>44.8</td>\n",
       "      <td>25.5</td>\n",
       "      <td>26.503585</td>\n",
       "      <td>25.012797</td>\n",
       "      <td>17.6</td>\n",
       "      <td>2019-12-06 00:08:15.644</td>\n",
       "      <td>...</td>\n",
       "      <td>False</td>\n",
       "      <td>False</td>\n",
       "      <td>Hayley Ladd</td>\n",
       "      <td>Birmingham City WFC</td>\n",
       "      <td>0.031914</td>\n",
       "      <td>Goal</td>\n",
       "      <td>True</td>\n",
       "    </tr>\n",
       "  </tbody>\n",
       "</table>\n",
       "<p>5 rows × 29 columns</p>\n",
       "</div>"
      ],
      "text/plain": [
       "   shot_x  shot_y  shot_distance     shot_a     shot_b  shot_angle  \\\n",
       "0    86.7    57.4           37.6  39.583456  35.894986        10.8   \n",
       "1    93.9    34.5           26.7  26.143068  27.775169        16.7   \n",
       "2    95.8    47.1           25.2  26.624237  24.397746        17.3   \n",
       "3   109.6    54.5           17.8  21.222865  14.778701        15.4   \n",
       "4    95.0    44.8           25.5  26.503585  25.012797        17.6   \n",
       "\n",
       "                timestamp  ... isCross  isCutback preceding_event_player  \\\n",
       "0 2019-12-06 00:04:36.133  ...   False      False           Taylor Hinds   \n",
       "1 2019-12-06 00:04:40.569  ...   False      False         Inessa Kaagman   \n",
       "2 2019-12-06 00:05:52.550  ...   False      False   Abbey-Leigh Stringer   \n",
       "3 2019-12-06 00:07:03.244  ...   False      False         Inessa Kaagman   \n",
       "4 2019-12-06 00:08:15.644  ...   False      False            Hayley Ladd   \n",
       "\n",
       "   preceding_event_team statsbomb_xg    isGoal isGoalBool  \n",
       "0           Everton LFC     0.013571  Not Goal      False  \n",
       "1           Everton LFC     0.049914  Not Goal      False  \n",
       "2   Birmingham City WFC     0.022202  Not Goal      False  \n",
       "3           Everton LFC     0.078857      Goal       True  \n",
       "4   Birmingham City WFC     0.031914      Goal       True  \n",
       "\n",
       "[5 rows x 29 columns]"
      ]
     },
     "execution_count": 15,
     "metadata": {},
     "output_type": "execute_result"
    }
   ],
   "source": [
    "#isolation open play shots\n",
    "df_open_play = df[df['type_name']=='Open Play']\n",
    "df_open_play.head()"
   ]
  },
  {
   "cell_type": "code",
   "execution_count": 16,
   "metadata": {},
   "outputs": [
    {
     "data": {
      "image/png": "[encoded data removed]",
      "text/plain": [
       "<Figure size 432x288 with 1 Axes>"
      ]
     },
     "metadata": {
      "needs_background": "light"
     },
     "output_type": "display_data"
    }
   ],
   "source": [
    "ax=sns.countplot(y='body_part_name',order=['Right Foot','Left Foot','Head','Other'],hue='isGoal',data=df_open_play);\n",
    "plt.legend(loc='lower right');"
   ]
  },
  {
   "cell_type": "markdown",
   "metadata": {},
   "source": [
    "The figure above shows that in sheer volumes, the amount of footed shots and goals are higher than headed shots and goals. Let's dig into this a little deeper.."
   ]
  },
  {
   "cell_type": "code",
   "execution_count": 17,
   "metadata": {},
   "outputs": [
    {
     "name": "stdout",
     "output_type": "stream",
     "text": [
      "The percentage of footed shots which are goals is 10.0\n",
      "The percentage of headed shots which are goals is 11.0\n"
     ]
    }
   ],
   "source": [
    "#isolating footed and headed shots and goals\n",
    "\n",
    "filt1 = (df_open_play['body_part_name']=='Right Foot') | (df_open_play['body_part_name']=='Left Foot')\n",
    "#calculating number of shots\n",
    "footed_shots_count = df_open_play[filt1].shape[0] \n",
    "\n",
    "#isolating footed goals\n",
    "footed_goals_count = sum(df_open_play[filt1]['isGoalBool'])\n",
    "\n",
    "#isolating headed shots\n",
    "filt2 = (df_open_play['body_part_name']=='Head')\n",
    "headed_shots_count = df_open_play[filt2].shape[0]\n",
    "\n",
    "#isolating headed goals\n",
    "headed_goals_count = sum(df_open_play[filt2]['isGoalBool'])\n",
    "\n",
    "footed_pct = footed_goals_count/footed_shots_count\n",
    "headed_pct = headed_goals_count/headed_shots_count\n",
    "\n",
    "print('The percentage of footed shots which are goals is {0}'.format(round(footed_pct,2)*100))\n",
    "print('The percentage of headed shots which are goals is {0}'.format(round(headed_pct,2)*100))"
   ]
  },
  {
   "cell_type": "markdown",
   "metadata": {},
   "source": [
    "This is interesting. I expected headers to be less likely to be converted into goals in my decision tree. So let's dig deeper!\n",
    "Usually, headers are taken from closer to the goal (think corners or crosses into the box). Let's check if the data reflects this"
   ]
  },
  {
   "cell_type": "code",
   "execution_count": 19,
   "metadata": {},
   "outputs": [
    {
     "data": {
      "image/png": "[encoded data removed]",
      "text/plain": [
       "<Figure size 432x288 with 2 Axes>"
      ]
     },
     "metadata": {
      "needs_background": "light"
     },
     "output_type": "display_data"
    }
   ],
   "source": [
    "fig = plt.figure()\n",
    "ax1 = fig.add_subplot(121)\n",
    "ax2=fig.add_subplot(122)\n",
    "sns.boxplot(x='isGoal',y='shot_distance',data=df_open_play[filt1],ax=ax1)\n",
    "sns.boxplot(x='isGoal',y='shot_distance',data=df_open_play[filt2],ax=ax2)\n",
    "ax1.set(ylim=(0,50));\n",
    "ax2.set(ylim=(0,50));\n",
    "ax2.set_ylabel('');\n",
    "ax1.set_xlabel('');\n",
    "ax2.set_xlabel('');\n",
    "ax1.set_title('Footed Shots');\n",
    "ax2.set_title('Headed Shots');"
   ]
  },
  {
   "cell_type": "markdown",
   "metadata": {},
   "source": [
    "The box plots show that more footed shots are taken from farther distances. Headed shots are almost always taken within the penalty area. This skews the percentage comparison in favor of headed shots. \n",
    "\n",
    "For a fair comparison, headed and footed shots within the penalty area must be compared against each other"
   ]
  },
  {
   "cell_type": "code",
   "execution_count": 20,
   "metadata": {},
   "outputs": [
    {
     "name": "stdout",
     "output_type": "stream",
     "text": [
      "The goal percentage of footed shots at a distance less than 18 yards is 17.3\n",
      "The goal percentage of headed shots at a distance less than 18 yards is 10.9\n"
     ]
    }
   ],
   "source": [
    "#filtering out footed shots taken a distance less than 18 yards\n",
    "filt3 = df_open_play[filt1]['shot_distance']<18\n",
    "footed_pb_shots_count = df_open_play[filt1][filt3].shape[0]\n",
    "footed_pb_goals_count = sum(df_open_play[filt1][filt3]['isGoalBool'])\n",
    "\n",
    "footed_pb_pct = footed_pb_goals_count*100/footed_pb_shots_count\n",
    "\n",
    "#filtering out headed shots taken a distance less than 18 yards\n",
    "filt4 = df_open_play[filt2]['shot_distance']<18\n",
    "headed_pb_shots_count = df_open_play[filt2][filt4].shape[0]\n",
    "headed_pb_goals_count = sum(df_open_play[filt2][filt4]['isGoalBool'])\n",
    "\n",
    "\n",
    "headed_pb_pct = headed_pb_goals_count*100/headed_pb_shots_count\n",
    "\n",
    "print('The goal percentage of footed shots at a distance less than 18 yards is {0}'.format(round(footed_pb_pct,1)))\n",
    "print('The goal percentage of headed shots at a distance less than 18 yards is {0}'.format(round(headed_pb_pct,1)))"
   ]
  },
  {
   "cell_type": "markdown",
   "metadata": {},
   "source": [
    "As seen above, footed shots are more effective than headed shots, when corrected for distance from goal. Therefore, footed shots should have a higher xG than headers.\n",
    "\n",
    "Since we are on the topic of headers and footed shots, let's explore what the percentages are for non open play shots. The below code reproduces the above analysis for non open play shots"
   ]
  },
  {
   "cell_type": "code",
   "execution_count": 21,
   "metadata": {},
   "outputs": [],
   "source": [
    "filt=df['type_name']=='Open Play'\n",
    "df_not_open_play = df[~filt]"
   ]
  },
  {
   "cell_type": "code",
   "execution_count": 22,
   "metadata": {},
   "outputs": [
    {
     "ename": "ZeroDivisionError",
     "evalue": "division by zero",
     "output_type": "error",
     "traceback": [
      "\u001b[1;31m---------------------------------------------------------------------------\u001b[0m",
      "\u001b[1;31mZeroDivisionError\u001b[0m                         Traceback (most recent call last)",
      "\u001b[1;32m<ipython-input-22-4eb7112a6118>\u001b[0m in \u001b[0;36m<module>\u001b[1;34m\u001b[0m\n\u001b[0;32m     13\u001b[0m \u001b[0mheaded_pb_goals_count\u001b[0m \u001b[1;33m=\u001b[0m \u001b[0msum\u001b[0m\u001b[1;33m(\u001b[0m\u001b[0mdf_not_open_play\u001b[0m\u001b[1;33m[\u001b[0m\u001b[0mfilt2\u001b[0m\u001b[1;33m]\u001b[0m\u001b[1;33m[\u001b[0m\u001b[0mfilt4\u001b[0m\u001b[1;33m]\u001b[0m\u001b[1;33m[\u001b[0m\u001b[1;34m'isGoalBool'\u001b[0m\u001b[1;33m]\u001b[0m\u001b[1;33m)\u001b[0m\u001b[1;33m\u001b[0m\u001b[1;33m\u001b[0m\u001b[0m\n\u001b[0;32m     14\u001b[0m \u001b[1;33m\u001b[0m\u001b[0m\n\u001b[1;32m---> 15\u001b[1;33m \u001b[0mheaded_pb_pct\u001b[0m \u001b[1;33m=\u001b[0m \u001b[0mheaded_pb_goals_count\u001b[0m\u001b[1;33m*\u001b[0m\u001b[1;36m100\u001b[0m\u001b[1;33m/\u001b[0m\u001b[0mheaded_pb_shots_count\u001b[0m\u001b[1;33m\u001b[0m\u001b[1;33m\u001b[0m\u001b[0m\n\u001b[0m\u001b[0;32m     16\u001b[0m \u001b[1;33m\u001b[0m\u001b[0m\n\u001b[0;32m     17\u001b[0m \u001b[0mprint\u001b[0m\u001b[1;33m(\u001b[0m\u001b[1;34m'The goal percentage of footed shots from non open play at a distance less than 18 yards is {0}'\u001b[0m\u001b[1;33m.\u001b[0m\u001b[0mformat\u001b[0m\u001b[1;33m(\u001b[0m\u001b[0mround\u001b[0m\u001b[1;33m(\u001b[0m\u001b[0mfooted_pb_pct\u001b[0m\u001b[1;33m,\u001b[0m\u001b[1;36m1\u001b[0m\u001b[1;33m)\u001b[0m\u001b[1;33m)\u001b[0m\u001b[1;33m)\u001b[0m\u001b[1;33m\u001b[0m\u001b[1;33m\u001b[0m\u001b[0m\n",
      "\u001b[1;31mZeroDivisionError\u001b[0m: division by zero"
     ]
    }
   ],
   "source": [
    "filt1 = (df_not_open_play['body_part_name']=='Right Foot') | (df_not_open_play['body_part_name']=='Left Foot')\n",
    "filt2 = (df_not_open_play['body_part_name']=='Head')\n",
    "filt3 = df_not_open_play[filt1]['shot_distance']<18\n",
    "filt4 = df_not_open_play[filt2]['shot_distance']<18\n",
    "\n",
    "\n",
    "footed_pb_shots_count = df_not_open_play[filt1][filt3].shape[0]\n",
    "footed_pb_goals_count = sum(df_not_open_play[filt1][filt3]['isGoalBool'])\n",
    "\n",
    "footed_pb_pct = footed_pb_goals_count*100/footed_pb_shots_count\n",
    "\n",
    "headed_pb_shots_count = df_not_open_play[filt2][filt4].shape[0]\n",
    "headed_pb_goals_count = sum(df_not_open_play[filt2][filt4]['isGoalBool'])\n",
    "\n",
    "headed_pb_pct = headed_pb_goals_count*100/headed_pb_shots_count\n",
    "\n",
    "print('The goal percentage of footed shots from non open play at a distance less than 18 yards is {0}'.format(round(footed_pb_pct,1)))\n",
    "print('The goal percentage of headed shots from non open play at a distance less than 18 yards is {0}'.format(round(headed_pb_pct,1)))"
   ]
  },
  {
   "cell_type": "markdown",
   "metadata": {},
   "source": [
    "Interestingly, this gives us a zero division error when trying to calculate headed_pb_pct. This is because any headed shot taken as part of a freekick or corner routine in this data set is considered as open play since you can't directly head a ball during a freekick. It has to have a preceding pass. The freekick itself cannot be a header.\n",
    "\n",
    "We will explore preceding passes and pass play patterns next"
   ]
  },
  {
   "cell_type": "markdown",
   "metadata": {},
   "source": [
    "As explained in the data wrangling phase, not all shots have a preceding pass."
   ]
  },
  {
   "cell_type": "code",
   "execution_count": 23,
   "metadata": {},
   "outputs": [
    {
     "data": {
      "image/png": "[encoded data removed]",
      "text/plain": [
       "<Figure size 432x288 with 1 Axes>"
      ]
     },
     "metadata": {
      "needs_background": "light"
     },
     "output_type": "display_data"
    }
   ],
   "source": [
    "ax=sns.countplot(y='key_pass_type',hue='isGoal',data=df);\n",
    "plt.legend(loc='lower right');"
   ]
  },
  {
   "cell_type": "markdown",
   "metadata": {},
   "source": [
    "Most shots do have a preceding pass in the dataset.  The most common type is a 'ground pass' followed by 'high pass' and 'low pass'.  A 'low pass' is defined by Statsbomb as a pass where the ball comes off the ground but is under the shoulder level at peak height. A 'high pass' goes above the shoulder level while during a 'ground pass' the ball doesn't come off the ground"
   ]
  },
  {
   "cell_type": "markdown",
   "metadata": {},
   "source": [
    "Our hypothesis tree includes checking whether the height of a pass affects the chance of the resulting shot in becoming a goal. Ignoring all other factors, let's look at shot conversions following key passes"
   ]
  },
  {
   "cell_type": "code",
   "execution_count": 24,
   "metadata": {},
   "outputs": [],
   "source": [
    "def quant_pct(df,column,value):\n",
    "    filt1 = df[column]==value\n",
    "    df_filt = df[filt1]\n",
    "    value_count = df_filt.shape[0]\n",
    "    goal_count = sum(df_filt['isGoalBool'])\n",
    "    value_pct = goal_count/value_count\n",
    "    return value_pct"
   ]
  },
  {
   "cell_type": "code",
   "execution_count": 25,
   "metadata": {},
   "outputs": [
    {
     "name": "stdout",
     "output_type": "stream",
     "text": [
      "The percentage of shots from low passes which are goals is 13.0\n",
      "The percentage of shots from high passes which are goals is 11.0\n",
      "The percentage of shots from ground passes which are goals is 9.0\n"
     ]
    }
   ],
   "source": [
    "low_pass_pct = quant_pct(df,'key_pass_type','Low Pass')\n",
    "high_pass_pct = quant_pct(df,'key_pass_type','High Pass')\n",
    "ground_pass_pct = quant_pct(df,'key_pass_type','Ground Pass')\n",
    "\n",
    "print('The percentage of shots from low passes which are goals is {0}'.format(round(low_pass_pct,2)*100))\n",
    "print('The percentage of shots from high passes which are goals is {0}'.format(round(high_pass_pct,2)*100))\n",
    "print('The percentage of shots from ground passes which are goals is {0}'.format(round(ground_pass_pct,2)*100))"
   ]
  },
  {
   "cell_type": "markdown",
   "metadata": {},
   "source": [
    "Although the least amount of shots result from low passes, it is better than high passes and ground passes. Therefore, without any additional context, aerial passes appear better from a shot scoring perspective"
   ]
  },
  {
   "cell_type": "markdown",
   "metadata": {},
   "source": [
    "Let's dig a little deeper and check the distances at which shots are taken following these passes"
   ]
  },
  {
   "cell_type": "code",
   "execution_count": 28,
   "metadata": {},
   "outputs": [
    {
     "data": {
      "image/png": "[encoded data removed]",
      "text/plain": [
       "<Figure size 432x288 with 3 Axes>"
      ]
     },
     "metadata": {
      "needs_background": "light"
     },
     "output_type": "display_data"
    }
   ],
   "source": [
    "filt1 = df['key_pass_type']=='Low Pass'\n",
    "filt2 = df['key_pass_type']=='High Pass'\n",
    "filt3 = df['key_pass_type']=='Ground Pass'\n",
    "low_pass = df[filt1]\n",
    "high_pass = df[filt2]\n",
    "ground_pass = df[filt3]\n",
    "\n",
    "low_pass=low_pass.sort_values(by='isGoal',ascending=False)\n",
    "high_pass=high_pass.sort_values(by='isGoal',ascending=False)\n",
    "ground_pass=ground_pass.sort_values(by='isGoal',ascending=False)\n",
    "\n",
    "fig = plt.figure()\n",
    "ax1 = fig.add_subplot(131)\n",
    "ax2 = fig.add_subplot(132)\n",
    "ax3 = fig.add_subplot(133)\n",
    "sns.boxplot(x='isGoal',y='shot_distance',data=low_pass,ax=ax1)\n",
    "sns.boxplot(x='isGoal',y='shot_distance',data=high_pass,ax=ax2)\n",
    "sns.boxplot(x='isGoal',y='shot_distance',data=ground_pass,ax=ax3)\n",
    "ax1.set(ylim=(0,50));\n",
    "ax2.set(ylim=(0,50));\n",
    "ax3.set(ylim=(0,50));\n",
    "ax2.set_ylabel('');\n",
    "ax3.set_ylabel('');\n",
    "ax1.set_xlabel('');\n",
    "ax2.set_xlabel('');\n",
    "ax3.set_xlabel('');\n",
    "ax1.set_title('Low Passes');\n",
    "ax2.set_title('High Passes');\n",
    "ax3.set_title('Ground Passes');"
   ]
  },
  {
   "cell_type": "markdown",
   "metadata": {},
   "source": [
    "Two stark trends stand out. High passes are taken closest to goal while ground passes are taken farther away from goal. This intuitively makes sense because high passes usually result in headers as they are above shoulder level at peak height and ground passes are fed to the feet of players. As seen earlier, headers are almost always taken closer from the goal while footed shots can be taken from farther out. Therefore, the above plot makes sense. \n",
    "\n",
    "Again we are seeing that successful shots are always closer to the goal."
   ]
  },
  {
   "cell_type": "markdown",
   "metadata": {},
   "source": [
    "Another important aspect of passes preceding shots is the direction they travel in. Passes are deemed as crosses or cutbacks by Statsbomb. The criteria. A cross is designated as such based on the criteria shown below (from the Statsbomb documentation)"
   ]
  },
  {
   "cell_type": "markdown",
   "metadata": {},
   "source": [
    "![cross_locations](https://i.imgur.com/wVzEMG1.png)"
   ]
  },
  {
   "cell_type": "markdown",
   "metadata": {},
   "source": [
    "A cut-back is defined by Statsbomb as below:"
   ]
  },
  {
   "cell_type": "markdown",
   "metadata": {},
   "source": [
    "![cut_back_locations](https://i.imgur.com/sUYNNp0.png)"
   ]
  },
  {
   "cell_type": "markdown",
   "metadata": {},
   "source": [
    "In this study, let's assume that if a pass is not designated as a cross or cutback, it is in the general forward direction"
   ]
  },
  {
   "cell_type": "code",
   "execution_count": 36,
   "metadata": {},
   "outputs": [],
   "source": [
    "cross_cutback_forward = []\n",
    "for index, rows in df.iterrows():\n",
    "    if rows['key_pass_type']=='None':\n",
    "        cross_cutback_forward.append('none')\n",
    "    else:\n",
    "        if (rows['isCross']==False) and (rows['isCutback']==False):\n",
    "            cross_cutback_forward.append('forward')\n",
    "        elif rows['isCross']==True:\n",
    "            cross_cutback_forward.append('cross')\n",
    "        elif rows['isCutback']==True:\n",
    "            cross_cutback_forward.append('cutback')"
   ]
  },
  {
   "cell_type": "code",
   "execution_count": 37,
   "metadata": {},
   "outputs": [],
   "source": [
    "df['cross_cutback_forward']=cross_cutback_forward"
   ]
  },
  {
   "cell_type": "code",
   "execution_count": 38,
   "metadata": {},
   "outputs": [
    {
     "data": {
      "text/plain": [
       "forward    3288\n",
       "none       1835\n",
       "cross       753\n",
       "cutback      42\n",
       "Name: cross_cutback_forward, dtype: int64"
      ]
     },
     "execution_count": 38,
     "metadata": {},
     "output_type": "execute_result"
    }
   ],
   "source": [
    "df['cross_cutback_forward'].value_counts()"
   ]
  },
  {
   "cell_type": "code",
   "execution_count": 41,
   "metadata": {},
   "outputs": [
    {
     "data": {
      "image/png": "[encoded data removed]",
      "text/plain": [
       "<Figure size 432x288 with 1 Axes>"
      ]
     },
     "metadata": {
      "needs_background": "light"
     },
     "output_type": "display_data"
    }
   ],
   "source": [
    "filt = df['cross_cutback_forward']=='none'\n",
    "sns.barplot(x='key_pass_type',y='isGoalBool',hue='cross_cutback_forward',ci=None,data=df[~filt])\n",
    "plt.legend(loc='upper center');"
   ]
  },
  {
   "cell_type": "markdown",
   "metadata": {},
   "source": [
    "From the above analysis we can draw the following conclusions:\n",
    "1. Crosses are more likely to create high xG shots followed by passes in the forward direction\n",
    "2. The highest xG shots are created by low crosses.\n",
    "3. In general low passes have a higher xG whether they are in the forward direction or across the field of play\n",
    "4. Cutbacks are not very common in this dataset. Of the 42 cutbacks in the dataset, only 1 resultant shot was a goal"
   ]
  },
  {
   "cell_type": "markdown",
   "metadata": {},
   "source": [
    "Next, let's analyze the pattern of play from which the key passes originated"
   ]
  },
  {
   "cell_type": "code",
   "execution_count": 43,
   "metadata": {},
   "outputs": [
    {
     "data": {
      "image/png": "[encoded data removed]",
      "text/plain": [
       "<Figure size 432x288 with 1 Axes>"
      ]
     },
     "metadata": {
      "needs_background": "light"
     },
     "output_type": "display_data"
    }
   ],
   "source": [
    "sns.barplot(x='key_pass_pattern',y='isGoalBool',ci=None,data=df[~filt])\n",
    "plt.xticks(rotation=45)\n",
    "plt.ylabel('Proportion of Goals from Resulting Shots');\n",
    "plt.ylim([0,0.2]);"
   ]
  },
  {
   "cell_type": "markdown",
   "metadata": {},
   "source": [
    "From the above it seems that the best key passes result from goal kicks, counters and kick offs.\n",
    "\n",
    "As far as set pieces are considered, even though we saw earlier that free kicks are harder to score directly from, they often result in the best key passes, followed by corners and throw ins."
   ]
  },
  {
   "cell_type": "markdown",
   "metadata": {},
   "source": [
    "Next let's analyze if a shot being the end result of a carry helps it's chances of being a goal. To do this we will utilize the first_time feature. If a shot is taken first time it means the player shoots the ball without controlling it. By definition a first time shot cannot be the end result of the shooter's carry. "
   ]
  },
  {
   "cell_type": "code",
   "execution_count": 52,
   "metadata": {},
   "outputs": [
    {
     "data": {
      "image/png": "[encoded data removed]",
      "text/plain": [
       "<Figure size 432x288 with 1 Axes>"
      ]
     },
     "metadata": {
      "needs_background": "light"
     },
     "output_type": "display_data"
    }
   ],
   "source": [
    "sns.barplot(x='first_time',y='isGoalBool',ci=None,data=df);"
   ]
  },
  {
   "cell_type": "markdown",
   "metadata": {},
   "source": [
    "It appears first time shots are more likely to be successful than shots which are controlled"
   ]
  },
  {
   "cell_type": "markdown",
   "metadata": {},
   "source": [
    "We've already seen from the above analysis that shot location is very important in shot conversion. Let's do a box-plot to quantify how important it is"
   ]
  },
  {
   "cell_type": "code",
   "execution_count": 45,
   "metadata": {},
   "outputs": [
    {
     "data": {
      "image/png": "[encoded data removed]",
      "text/plain": [
       "<Figure size 432x288 with 1 Axes>"
      ]
     },
     "metadata": {
      "needs_background": "light"
     },
     "output_type": "display_data"
    }
   ],
   "source": [
    "sns.boxplot(x='isGoal',y='shot_distance',data=df);"
   ]
  },
  {
   "cell_type": "markdown",
   "metadata": {},
   "source": [
    "Most successful shots are taken within 20 yards from goal i.e the penalty area. Non successful shots are taken from farther away i.e there is an inverse relationship with shot conversion"
   ]
  },
  {
   "cell_type": "markdown",
   "metadata": {},
   "source": [
    "Let's look at shot angle next"
   ]
  },
  {
   "cell_type": "code",
   "execution_count": 47,
   "metadata": {},
   "outputs": [
    {
     "data": {
      "image/png": "[encoded data removed]",
      "text/plain": [
       "<Figure size 432x288 with 1 Axes>"
      ]
     },
     "metadata": {
      "needs_background": "light"
     },
     "output_type": "display_data"
    }
   ],
   "source": [
    "sns.boxplot(x='isGoal',y='shot_angle',data=df);"
   ]
  },
  {
   "cell_type": "markdown",
   "metadata": {},
   "source": [
    "A lower angle corresponds to a longer distance away from the goal. Since we have established that shots taken from longer distances are less likely to score, it is not surprising to see that smaller shot angles result in fewer goals. Conversely, shots with a bigger shot angle are more likely to be goals"
   ]
  },
  {
   "cell_type": "markdown",
   "metadata": {},
   "source": [
    "Now let's look at the type of shots as in open play vs freekicks and penalties"
   ]
  },
  {
   "cell_type": "code",
   "execution_count": 48,
   "metadata": {},
   "outputs": [
    {
     "name": "stdout",
     "output_type": "stream",
     "text": [
      "The percentage of shots from open play which are goals is 10.0\n",
      "The percentage of shots from freekicks which are goals is 6.0\n",
      "The percentage of shots from penalties which are goals is 71.0\n"
     ]
    }
   ],
   "source": [
    "open_play_pct = quant_pct(df,'type_name','Open Play')\n",
    "freekick_pct = quant_pct(df,'type_name','Free Kick')\n",
    "penalty_pct = quant_pct(df,'type_name','Penalty')\n",
    "\n",
    "print('The percentage of shots from open play which are goals is {0}'.format(round(open_play_pct,2)*100))\n",
    "print('The percentage of shots from freekicks which are goals is {0}'.format(round(freekick_pct,2)*100))\n",
    "print('The percentage of shots from penalties which are goals is {0}'.format(round(penalty_pct,2)*100))"
   ]
  },
  {
   "cell_type": "markdown",
   "metadata": {},
   "source": [
    "As shown above, penalties correspond to a very high probability of scoring while freekicks correspond to a very low probability of scoring. Open play shots generally easier to score than freekicks"
   ]
  },
  {
   "cell_type": "markdown",
   "metadata": {},
   "source": [
    "Next, let's look at the packing density of opposition in front of the shot"
   ]
  },
  {
   "cell_type": "code",
   "execution_count": 50,
   "metadata": {},
   "outputs": [
    {
     "data": {
      "image/png": "[encoded data removed]",
      "text/plain": [
       "<Figure size 432x288 with 1 Axes>"
      ]
     },
     "metadata": {
      "needs_background": "light"
     },
     "output_type": "display_data"
    }
   ],
   "source": [
    "sns.boxplot(x='isGoal',y='pack_density',data=df);"
   ]
  },
  {
   "cell_type": "markdown",
   "metadata": {},
   "source": [
    "Most shots, regardless of whether they were goals, are taken when fewer players are directly in between the shot and goal. Unsuccessful shots generally have more players in between the shot and the goal than successful shots. \n",
    "\n",
    "Packing density accounts for whether the goalkeeper is in the way of a shot. It doesn't qualitatively differentiate how good their positioning is. This is hard to quantify as it depends on the physical attributes for each keeper like jumping or diving reach, height etc. For this study, a simplistic approach will be adopted wherein packing density is the only metric which considers positioning of other players with respect to the shot"
   ]
  },
  {
   "cell_type": "markdown",
   "metadata": {},
   "source": [
    "Finally let's analyze non type of play factors"
   ]
  },
  {
   "cell_type": "code",
   "execution_count": 53,
   "metadata": {},
   "outputs": [
    {
     "data": {
      "image/png": "[encoded data removed]",
      "text/plain": [
       "<Figure size 432x288 with 1 Axes>"
      ]
     },
     "metadata": {
      "needs_background": "light"
     },
     "output_type": "display_data"
    }
   ],
   "source": [
    "df['minute_of_shot_in_half']=df['timestamp'].dt.minute\n",
    "sns.boxplot(x='isGoal',y='minute_of_shot_in_half',data=df);"
   ]
  },
  {
   "cell_type": "markdown",
   "metadata": {},
   "source": [
    "We can see that the actual time of the shot is insignificant as to whether the shot is successful"
   ]
  },
  {
   "cell_type": "markdown",
   "metadata": {},
   "source": [
    "Next, let's check if the shooter plays for the home or away team affect shot conversion"
   ]
  },
  {
   "cell_type": "code",
   "execution_count": 54,
   "metadata": {},
   "outputs": [
    {
     "data": {
      "image/png": "[encoded data removed]",
      "text/plain": [
       "<Figure size 432x288 with 1 Axes>"
      ]
     },
     "metadata": {
      "needs_background": "light"
     },
     "output_type": "display_data"
    }
   ],
   "source": [
    "sns.barplot(x='home_or_away',y='isGoalBool',ci=None,data=df);"
   ]
  },
  {
   "cell_type": "markdown",
   "metadata": {},
   "source": [
    "Whether the shooter is playing home or away also doesn't affect shot conversion"
   ]
  },
  {
   "cell_type": "code",
   "execution_count": null,
   "metadata": {},
   "outputs": [],
   "source": []
  },
  {
   "cell_type": "code",
   "execution_count": null,
   "metadata": {},
   "outputs": [],
   "source": []
  }
 ],
 "metadata": {
  "kernelspec": {
   "display_name": "Python 3",
   "language": "python",
   "name": "python3"
  },
  "language_info": {
   "codemirror_mode": {
    "name": "ipython",
    "version": 3
   },
   "file_extension": ".py",
   "mimetype": "text/x-python",
   "name": "python",
   "nbconvert_exporter": "python",
   "pygments_lexer": "ipython3",
   "version": "3.7.3"
  }
 },
 "nbformat": 4,
 "nbformat_minor": 2
}
